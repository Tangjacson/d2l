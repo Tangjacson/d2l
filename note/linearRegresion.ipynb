{
 "cells": [
  {
   "cell_type": "markdown",
   "metadata": {},
   "source": [
    "# linear Regression"
   ]
  },
  {
   "cell_type": "markdown",
   "metadata": {},
   "source": [
    "## theoretical part\n",
    "first we need to define our linear mode \n",
    "$$\\hat y= W\\cdot X+b$$\n",
    "we use train set to train our model in order to minimize loss function \n",
    "$$loss=MSE(y,\\hat y)$$\n",
    "last we use test set to evaluate our model.\n",
    "details : https://github.com/Tangjacson/cs189/blob/master/Reading%20note/r2.pdf"
   ]
  },
  {
   "cell_type": "markdown",
   "metadata": {},
   "source": [
    "## pratical part"
   ]
  },
  {
   "cell_type": "code",
   "execution_count": 2,
   "metadata": {},
   "outputs": [],
   "source": [
    "import torch\n",
    "import matplotlib.pyplot as plt\n",
    "import numpy as np\n",
    "from IPython import display"
   ]
  },
  {
   "cell_type": "markdown",
   "metadata": {},
   "source": [
    "we set our true model w=[2,-3.4],b=4.2 and noisy is $\\sigma=0.01$"
   ]
  },
  {
   "cell_type": "code",
   "execution_count": 108,
   "metadata": {},
   "outputs": [],
   "source": [
    "true_w=np.array([2,-3.4])\n",
    "true_b=4.2\n",
    "n_examples=1000\n",
    "n_features=2\n",
    "X=torch.from_numpy(np.random.normal(0,1,(n_examples,n_features)))\n",
    "Y=X[:,0]*true_w[0]+X[:,1]*true_w[1]+true_b\n",
    "Y+=torch.from_numpy(np.random.normal(0,.01,size=Y.size()))"
   ]
  },
  {
   "cell_type": "code",
   "execution_count": 111,
   "metadata": {},
   "outputs": [
    {
     "data": {
      "text/plain": [
       "(tensor([-0.4158,  1.1856], dtype=torch.float64),\n",
       " tensor(-0.6622, dtype=torch.float64))"
      ]
     },
     "execution_count": 111,
     "metadata": {},
     "output_type": "execute_result"
    }
   ],
   "source": [
    "X[0],Y[0]"
   ]
  },
  {
   "cell_type": "code",
   "execution_count": 34,
   "metadata": {},
   "outputs": [
    {
     "data": {
      "text/plain": [
       "<matplotlib.collections.PathCollection at 0x2700a602588>"
      ]
     },
     "execution_count": 34,
     "metadata": {},
     "output_type": "execute_result"
    },
    {
     "data": {
      "image/png": "[encoded data removed]",
      "text/plain": [
       "<Figure size 432x360 with 1 Axes>"
      ]
     },
     "metadata": {
      "needs_background": "light"
     },
     "output_type": "display_data"
    }
   ],
   "source": [
    "plt.figure(figsize=(6,5))\n",
    "plt.scatter(X[:,1],Y)"
   ]
  },
  {
   "cell_type": "markdown",
   "metadata": {},
   "source": [
    "## read data(mini_batch)"
   ]
  },
  {
   "cell_type": "code",
   "execution_count": 55,
   "metadata": {},
   "outputs": [],
   "source": [
    "def data_iter(batch_size,X,Y):\n",
    "    n_examples=len(X)\n",
    "    index=list(range(n_examples))\n",
    "    random.shuffle(index)\n",
    "    for i in range(0,n_examples,batch_size):\n",
    "        j=torch.LongTensor(index[i:min(i+batch_size,n_examples)])#transform index\n",
    "                                                         #to LongTensor\n",
    "        yield X.index_select(0,j),Y.index_select(0,j)"
   ]
  },
  {
   "cell_type": "markdown",
   "metadata": {},
   "source": [
    "**index_select()** object:"
   ]
  },
  {
   "cell_type": "code",
   "execution_count": 46,
   "metadata": {},
   "outputs": [
    {
     "data": {
      "text/plain": [
       "tensor([6, 7])"
      ]
     },
     "execution_count": 46,
     "metadata": {},
     "output_type": "execute_result"
    }
   ],
   "source": [
    "import random\n",
    "a=torch.tensor([4,5,6,7])\n",
    "index=torch.tensor([2,3])\n",
    "a.index_select(0,index)"
   ]
  },
  {
   "cell_type": "markdown",
   "metadata": {},
   "source": [
    "## initiate parameter"
   ]
  },
  {
   "cell_type": "code",
   "execution_count": 75,
   "metadata": {},
   "outputs": [],
   "source": [
    "w=torch.tensor(np.random.normal(0,1,(n_features,1)),requires_grad=True,dtype=torch.float64)\n",
    "b=torch.tensor(1.,requires_grad=True,dtype=torch.float64)"
   ]
  },
  {
   "cell_type": "markdown",
   "metadata": {},
   "source": [
    "## def model"
   ]
  },
  {
   "cell_type": "code",
   "execution_count": 70,
   "metadata": {},
   "outputs": [],
   "source": [
    "def model(X,w,b):\n",
    "    return torch.mm(X,w)+b\n",
    "\n",
    "def loss(Y,Y_hat):\n",
    "    return (Y_hat-Y.view(Y_hat.size()))**2/2\n",
    "\n",
    "def SGD(params,lr,batch_size):\n",
    "    for param in params:\n",
    "        param.data-=lr*param.grad/batch_size# prevent destroy the grad or there\n",
    "                                            # will be an -1 accumulate to grad"
   ]
  },
  {
   "cell_type": "markdown",
   "metadata": {},
   "source": [
    "## train model"
   ]
  },
  {
   "cell_type": "code",
   "execution_count": 88,
   "metadata": {},
   "outputs": [
    {
     "name": "stdout",
     "output_type": "stream",
     "text": [
      "epoch 1,loss:0.000055\n",
      "epoch 2,loss:0.000049\n",
      "epoch 3,loss:0.000048\n"
     ]
    }
   ],
   "source": [
    "lr=0.3\n",
    "n_epochs=3\n",
    "\n",
    "for epoch in range(n_epochs):\n",
    "    for x,y in data_iter(10,X,Y):\n",
    "        y_hat=model(x,w,b)\n",
    "        l=loss(y,y_hat).sum()\n",
    "        l.backward()\n",
    "        SGD([w,b],lr,10)\n",
    "        \n",
    "        #reset after backward each time\n",
    "        w.grad.data.zero_()\n",
    "        b.grad.data.zero_()\n",
    "    \n",
    "    train_loss=loss(model(X,w,b),Y)\n",
    "    print(\"epoch %d,loss:%f\"%(epoch+1,train_loss.mean()))"
   ]
  },
  {
   "cell_type": "markdown",
   "metadata": {},
   "source": [
    "## Implement in a more pytorch way"
   ]
  },
  {
   "cell_type": "code",
   "execution_count": 116,
   "metadata": {},
   "outputs": [],
   "source": [
    "import torch.utils.data as Data\n",
    "batch_size = 10\n",
    "dataset = Data.TensorDataset(X,Y)# concate the X,Y\n",
    "data_iter = Data.DataLoader(dataset, batch_size, shuffle=True)#splist X,Y"
   ]
  },
  {
   "cell_type": "code",
   "execution_count": 117,
   "metadata": {},
   "outputs": [
    {
     "name": "stdout",
     "output_type": "stream",
     "text": [
      "linearRegression(\n",
      "  (linear): Linear(in_features=2, out_features=1, bias=True)\n",
      ")\n"
     ]
    }
   ],
   "source": [
    "from torch import nn\n",
    "class linearRegression(nn.Module):\n",
    "    def __init__(self,n_features):\n",
    "        super(linearRegression,self).__init__()\n",
    "        self.linear=nn.Linear(n_features,1)\n",
    "    \n",
    "    def forward(self,x):\n",
    "        Y=self.linear(x)\n",
    "        return Y\n",
    "    \n",
    "lR=linearRegression(n_features)\n",
    "print(lR)"
   ]
  },
  {
   "cell_type": "code",
   "execution_count": 118,
   "metadata": {},
   "outputs": [],
   "source": [
    "net=nn.Sequential(\n",
    "    nn.Linear(n_features,1)#input and outcome dim of each example\n",
    ")"
   ]
  },
  {
   "cell_type": "code",
   "execution_count": 119,
   "metadata": {},
   "outputs": [
    {
     "data": {
      "text/plain": [
       "Parameter containing:\n",
       "tensor([0.], requires_grad=True)"
      ]
     },
     "execution_count": 119,
     "metadata": {},
     "output_type": "execute_result"
    }
   ],
   "source": [
    "from torch.nn import init\n",
    "init.normal_(net[0].weight,mean=0,std=.01)\n",
    "init.constant_(net[0].bias,val=0)#directly net[0].bias.data.fill_(0)"
   ]
  },
  {
   "cell_type": "code",
   "execution_count": 136,
   "metadata": {},
   "outputs": [
    {
     "name": "stdout",
     "output_type": "stream",
     "text": [
      "SGD (\n",
      "Parameter Group 0\n",
      "    dampening: 0\n",
      "    lr: 0.003\n",
      "    momentum: 0\n",
      "    nesterov: False\n",
      "    weight_decay: 0\n",
      ")\n"
     ]
    }
   ],
   "source": [
    "loss=nn.MSELoss()\n",
    "\n",
    "import torch.optim as optim\n",
    "\n",
    "optimizer=optim.SGD(net.parameters(),lr=.003)\n",
    "print(optimizer)"
   ]
  },
  {
   "cell_type": "code",
   "execution_count": 137,
   "metadata": {},
   "outputs": [
    {
     "name": "stdout",
     "output_type": "stream",
     "text": [
      "epoch0,loss:0.000089\n",
      "epoch1,loss:0.000166\n",
      "epoch2,loss:0.000056\n"
     ]
    }
   ],
   "source": [
    "for epoch in range(n_epochs):\n",
    "    for x,y in data_iter:\n",
    "        output=net(x.float())\n",
    "        l=loss(output,y.float().view(-1,1))\n",
    "        optimizer.zero_grad()\n",
    "        l.backward()\n",
    "        optimizer.step()\n",
    "    print('epoch%d,loss:%f'%(epoch,l))"
   ]
  },
  {
   "cell_type": "code",
   "execution_count": null,
   "metadata": {},
   "outputs": [],
   "source": []
  },
  {
   "cell_type": "code",
   "execution_count": null,
   "metadata": {},
   "outputs": [],
   "source": []
  }
 ],
 "metadata": {
  "kernelspec": {
   "display_name": "Python 3",
   "language": "python",
   "name": "python3"
  },
  "language_info": {
   "codemirror_mode": {
    "name": "ipython",
    "version": 3
   },
   "file_extension": ".py",
   "mimetype": "text/x-python",
   "name": "python",
   "nbconvert_exporter": "python",
   "pygments_lexer": "ipython3",
   "version": "3.7.1"
  }
 },
 "nbformat": 4,
 "nbformat_minor": 2
}
